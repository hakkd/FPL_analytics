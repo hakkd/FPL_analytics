{
 "cells": [
  {
   "cell_type": "code",
   "execution_count": 1,
   "metadata": {},
   "outputs": [],
   "source": [
    "# Import the libraries we need\n",
    "import pandas as pd\n",
    "import re\n",
    "import random\n",
    "import requests\n",
    "from bs4 import BeautifulSoup\n",
    "from selenium import webdriver\n",
    "import datetime"
   ]
  },
  {
   "cell_type": "code",
   "execution_count": 8,
   "metadata": {},
   "outputs": [
    {
     "name": "stdout",
     "output_type": "stream",
     "text": [
      "<title>Premier League Player Stats | FBref.com</title>\n"
     ]
    }
   ],
   "source": [
    "# set url for understat\n",
    "plyrs_xg_url = 'https://fbref.com/en/comps/9/stats/Premier-League-Stats'\n",
    "\n",
    "# download the webpage\n",
    "plyrs_xg_data = requests.get(plyrs_xg_url)\n",
    "\n",
    "# get the html code for the webpage\n",
    "plyrs_xg_html = plyrs_xg_data.content\n",
    "\n",
    "# parse the html using bs4\n",
    "soup = BeautifulSoup(plyrs_xg_html, 'lxml')\n",
    "\n",
    "print(soup.title)"
   ]
  },
  {
   "cell_type": "code",
   "execution_count": 9,
   "metadata": {},
   "outputs": [
    {
     "name": "stdout",
     "output_type": "stream",
     "text": [
      "<title>Premier League Player Stats | FBref.com</title>\n"
     ]
    }
   ],
   "source": [
    "#set up the selenium driver\n",
    "options = webdriver.ChromeOptions()\n",
    "\n",
    "# run without opening the browser\n",
    "options.add_argument('headless')\n",
    "\n",
    "driver = webdriver.Chrome(executable_path = '/opt/anaconda3/lib/python3.8/site-packages/selenium/webdriver/chrome/chromedriver', options = options)\n",
    "\n",
    "# navigate to the page url\n",
    "driver.get(plyrs_xg_url)\n",
    "\n",
    "# get the html code from the webpage\n",
    "soup = BeautifulSoup(driver.page_source, 'lxml')\n",
    "\n",
    "print(soup.title)"
   ]
  },
  {
   "cell_type": "code",
   "execution_count": 26,
   "metadata": {},
   "outputs": [
    {
     "data": {
      "text/plain": [
       "[<th aria-label=\"Squad\" class=\"poptip sort_default_asc center\" data-stat=\"squad\" scope=\"col\">Squad</th>,\n",
       " <th aria-label=\"Number of Players used in Games\" class=\"poptip center\" data-stat=\"players_used\" data-tip=\"Number of Players used in Games\" scope=\"col\"># Pl</th>,\n",
       " <th aria-label=\"PossessionCalculated as the percentage of passes attempted\" class=\"poptip center\" data-stat=\"possession\" data-tip=\"&lt;strong&gt;Possession&lt;/strong&gt;&lt;br&gt;Calculated as the percentage of passes attempted\" scope=\"col\">Poss</th>,\n",
       " <th aria-label=\"Matches Played\" class=\"poptip center group_start\" data-over-header=\"Playing Time\" data-stat=\"games\" data-tip=\"&lt;strong&gt;Matches Played&lt;/strong&gt;&lt;br&gt;Matches Played by the player or squad\" scope=\"col\">MP</th>,\n",
       " <th aria-label=\"Starts\" class=\"poptip center\" data-over-header=\"Playing Time\" data-stat=\"games_starts\" data-tip=\"&lt;strong&gt;Starts&lt;/strong&gt;&lt;br&gt;Game or games started by player\" scope=\"col\">Starts</th>,\n",
       " <th aria-label=\"Minutes\" class=\"poptip center\" data-over-header=\"Playing Time\" data-stat=\"minutes\" data-tip=\"Minutes\" scope=\"col\">Min</th>,\n",
       " <th aria-label=\"Goals\" class=\"poptip center group_start\" data-over-header=\"Performance\" data-stat=\"goals\" data-tip=\"&lt;strong&gt;Goals&lt;/strong&gt;&lt;br&gt;Goals scored or allowed\" scope=\"col\">Gls</th>,\n",
       " <th aria-label=\"Assists\" class=\"poptip center\" data-over-header=\"Performance\" data-stat=\"assists\" data-tip=\"Assists\" scope=\"col\">Ast</th>,\n",
       " <th aria-label=\"Penalty Kicks Made\" class=\"poptip center\" data-over-header=\"Performance\" data-stat=\"pens_made\" data-tip=\"Penalty Kicks Made\" scope=\"col\">PK</th>,\n",
       " <th aria-label=\"Penalty Kicks Attempted\" class=\"poptip center\" data-over-header=\"Performance\" data-stat=\"pens_att\" data-tip=\"Penalty Kicks Attempted\" scope=\"col\">PKatt</th>,\n",
       " <th aria-label=\"Yellow Cards\" class=\"poptip center\" data-over-header=\"Performance\" data-stat=\"cards_yellow\" data-tip=\"Yellow Cards\" scope=\"col\">CrdY</th>,\n",
       " <th aria-label=\"Red Cards\" class=\"poptip center\" data-over-header=\"Performance\" data-stat=\"cards_red\" data-tip=\"Red Cards\" scope=\"col\">CrdR</th>,\n",
       " <th aria-label=\"Goals/90\" class=\"poptip hide_non_quals center group_start\" data-filter=\"1\" data-name=\"Goals/90\" data-over-header=\"Per 90 Minutes\" data-stat=\"goals_per90\" data-tip=\"&lt;strong&gt;Goals Scored per 90 minutes&lt;/strong&gt;&lt;br&gt;Minimum 30 minutes played per squad game to qualify as a leader\" scope=\"col\">Gls</th>,\n",
       " <th aria-label=\"Assists/90\" class=\"poptip hide_non_quals center\" data-filter=\"1\" data-name=\"Assists/90\" data-over-header=\"Per 90 Minutes\" data-stat=\"assists_per90\" data-tip=\"&lt;strong&gt;Assists per 90 minutes&lt;/strong&gt;&lt;br&gt;Minimum 30 minutes played per squad game to qualify as a leader\" scope=\"col\">Ast</th>,\n",
       " <th aria-label=\"Goals + Assists/90\" class=\"poptip hide_non_quals center\" data-filter=\"1\" data-name=\"Goals + Assists/90\" data-over-header=\"Per 90 Minutes\" data-stat=\"goals_assists_per90\" data-tip=\"&lt;strong&gt;Goals and Assists per 90 minutes&lt;/strong&gt;&lt;br&gt;Minimum 30 minutes played per squad game to qualify as a leader\" scope=\"col\">G+A</th>,\n",
       " <th aria-label=\"Non-Penalty Goals/90\" class=\"poptip hide_non_quals center\" data-filter=\"1\" data-name=\"Non-Penalty Goals/90\" data-over-header=\"Per 90 Minutes\" data-stat=\"goals_pens_per90\" data-tip=\"&lt;strong&gt;Goals minus Penalty Kicks made per 90 minutes&lt;/strong&gt;&lt;br&gt;Minimum 30 minutes played per squad game to qualify as a leader\" scope=\"col\">G-PK</th>,\n",
       " <th aria-label=\"Non-Penalty Goals + Assists/90\" class=\"poptip hide_non_quals center\" data-filter=\"1\" data-name=\"Non-Penalty Goals + Assists/90\" data-over-header=\"Per 90 Minutes\" data-stat=\"goals_assists_pens_per90\" data-tip=\"&lt;strong&gt;Goals plus Assists minus Penalty Kicks made per 90 minutes&lt;/strong&gt;&lt;br&gt;Minimum 30 minutes played per squad game to qualify as a leader\" scope=\"col\">G+A-PK</th>,\n",
       " <th aria-label=\"xG\" class=\"poptip center group_start\" data-filter=\"1\" data-name=\"xG\" data-over-header=\"Expected\" data-stat=\"xg\" data-tip=\"&lt;strong&gt;Expected Goals&lt;/strong&gt;&lt;br&gt;xG totals include penalty kicks, but do not include penalty shootouts (unless otherwise noted).&lt;br&gt;Provided by StatsBomb.&lt;br&gt;An underline indicates there is a match that is missing data, but will be updated when available.\" scope=\"col\">xG</th>,\n",
       " <th aria-label=\"npxG\" class=\"poptip center\" data-filter=\"1\" data-name=\"npxG\" data-over-header=\"Expected\" data-stat=\"npxg\" data-tip=\"&lt;strong&gt;Non-Penalty Expected Goals&lt;/strong&gt;&lt;br&gt;Provided by StatsBomb.&lt;br&gt;An underline indicates there is a match that is missing data, but will be updated when available.\" scope=\"col\">npxG</th>,\n",
       " <th aria-label=\"xA\" class=\"poptip center\" data-filter=\"1\" data-name=\"xA\" data-over-header=\"Expected\" data-stat=\"xa\" data-tip=\"&lt;strong&gt;xG Assisted&lt;/strong&gt;&lt;br&gt;xG which follows a pass that assists a shot&lt;br&gt;Provided by StatsBomb.&lt;br&gt;An underline indicates there is a match that is missing data, but will be updated when available.\" scope=\"col\">xA</th>,\n",
       " <th aria-label=\"xG/90\" class=\"poptip hide_non_quals center group_start\" data-filter=\"1\" data-name=\"xG/90\" data-over-header=\"Per 90 Minutes\" data-stat=\"xg_per90\" data-tip=\"&lt;strong&gt;Expected Goals per 90 minutes&lt;/strong&gt;&lt;br&gt;xG totals include penalty kicks, but do not include penalty shootouts (unless otherwise noted).&lt;br&gt;Provided by StatsBomb.&lt;br&gt;An underline indicates there is a match that is missing data, but will be updated when available.&lt;br&gt;Minimum 30 minutes played per squad game to qualify as a leader\" scope=\"col\">xG</th>,\n",
       " <th aria-label=\"xA/90\" class=\"poptip hide_non_quals center\" data-filter=\"1\" data-name=\"xA/90\" data-over-header=\"Per 90 Minutes\" data-stat=\"xa_per90\" data-tip=\"&lt;strong&gt;xG Assisted per 90 minutes&lt;/strong&gt;&lt;br&gt;Provided by StatsBomb.&lt;br&gt;An underline indicates there is a match that is missing data, but will be updated when available.&lt;br&gt;Minimum 30 minutes played per squad game to qualify as a leader\" scope=\"col\">xA</th>,\n",
       " <th aria-label=\"Expected Goals plus Assist per 90 minutes\" class=\"poptip hide_non_quals center\" data-over-header=\"Per 90 Minutes\" data-stat=\"xg_xa_per90\" data-tip=\"&lt;strong&gt;Expected Goals plus Assist per 90 minutes&lt;/strong&gt;&lt;br&gt;xG totals include penalty kicks, but do not include penalty shootouts (unless otherwise noted).&lt;br&gt;Provided by StatsBomb.&lt;br&gt;An underline indicates there is a match that is missing data, but will be updated when available.&lt;br&gt;Minimum 30 minutes played per squad game to qualify as a leader\" scope=\"col\">xG+xA</th>,\n",
       " <th aria-label=\"npxG/90\" class=\"poptip hide_non_quals center\" data-filter=\"1\" data-name=\"npxG/90\" data-over-header=\"Per 90 Minutes\" data-stat=\"npxg_per90\" data-tip=\"&lt;strong&gt;Non-Penalty Expected Goals per 90 minutes&lt;/strong&gt;&lt;br&gt;Provided by StatsBomb.&lt;br&gt;An underline indicates there is a match that is missing data, but will be updated when available.&lt;br&gt;Minimum 30 minutes played per squad game to qualify as a leader\" scope=\"col\">npxG</th>,\n",
       " <th aria-label=\"Non-Penalty Expected Goals plus xG Assisted per 90 minutes\" class=\"poptip hide_non_quals center\" data-over-header=\"Per 90 Minutes\" data-stat=\"npxg_xa_per90\" data-tip=\"&lt;strong&gt;Non-Penalty Expected Goals plus xG Assisted per 90 minutes&lt;/strong&gt;&lt;br&gt;Provided by StatsBomb.&lt;br&gt;An underline indicates there is a match that is missing data, but will be updated when available.&lt;br&gt;Minimum 30 minutes played per squad game to qualify as a leader\" scope=\"col\">npxG+xA</th>]"
      ]
     },
     "execution_count": 26,
     "metadata": {},
     "output_type": "execute_result"
    }
   ],
   "source": [
    "# Get the table headers using 3 chained find operations\n",
    "# 1. Find the div containing the table (div class = chemp jTable)\n",
    "# 2. Find the table within that div\n",
    "# 3. Find all 'th' elements where class = sort\n",
    "headers = soup.find('div', attrs={'class':'overthrow table_container'}).find('table').find_all('th',attrs={'class':'sort'})\n",
    " \n",
    "headers"
   ]
  },
  {
   "cell_type": "code",
   "execution_count": 27,
   "metadata": {},
   "outputs": [
    {
     "name": "stdout",
     "output_type": "stream",
     "text": [
      "['Squad', '# Pl', 'Poss', 'MP', 'Starts', 'Min', 'Gls', 'Ast', 'PK', 'PKatt', 'CrdY', 'CrdR', 'Gls', 'Ast', 'G+A', 'G-PK', 'G+A-PK', 'xG', 'npxG', 'xA', 'xG', 'xA', 'xG+xA', 'npxG', 'npxG+xA']\n"
     ]
    }
   ],
   "source": [
    "# iterate over headers, get the text from each item, and add the results to headers_list\n",
    "headers_list=[]\n",
    "for header in headers:\n",
    "    headers_list.append(header.get_text(strip=True))\n",
    "print(headers_list)"
   ]
  },
  {
   "cell_type": "code",
   "execution_count": 28,
   "metadata": {},
   "outputs": [
    {
     "ename": "ValueError",
     "evalue": "25 columns passed, passed data had 24 columns",
     "output_type": "error",
     "traceback": [
      "\u001b[0;31m---------------------------------------------------------------------------\u001b[0m",
      "\u001b[0;31mAssertionError\u001b[0m                            Traceback (most recent call last)",
      "\u001b[0;32m/opt/anaconda3/lib/python3.8/site-packages/pandas/core/internals/construction.py\u001b[0m in \u001b[0;36m_list_to_arrays\u001b[0;34m(data, columns, coerce_float, dtype)\u001b[0m\n\u001b[1;32m    495\u001b[0m     \u001b[0;32mtry\u001b[0m\u001b[0;34m:\u001b[0m\u001b[0;34m\u001b[0m\u001b[0;34m\u001b[0m\u001b[0m\n\u001b[0;32m--> 496\u001b[0;31m         result = _convert_object_array(\n\u001b[0m\u001b[1;32m    497\u001b[0m             \u001b[0mcontent\u001b[0m\u001b[0;34m,\u001b[0m \u001b[0mcolumns\u001b[0m\u001b[0;34m,\u001b[0m \u001b[0mdtype\u001b[0m\u001b[0;34m=\u001b[0m\u001b[0mdtype\u001b[0m\u001b[0;34m,\u001b[0m \u001b[0mcoerce_float\u001b[0m\u001b[0;34m=\u001b[0m\u001b[0mcoerce_float\u001b[0m\u001b[0;34m\u001b[0m\u001b[0;34m\u001b[0m\u001b[0m\n",
      "\u001b[0;32m/opt/anaconda3/lib/python3.8/site-packages/pandas/core/internals/construction.py\u001b[0m in \u001b[0;36m_convert_object_array\u001b[0;34m(content, columns, coerce_float, dtype)\u001b[0m\n\u001b[1;32m    579\u001b[0m             \u001b[0;31m# caller's responsibility to check for this...\u001b[0m\u001b[0;34m\u001b[0m\u001b[0;34m\u001b[0m\u001b[0;34m\u001b[0m\u001b[0m\n\u001b[0;32m--> 580\u001b[0;31m             raise AssertionError(\n\u001b[0m\u001b[1;32m    581\u001b[0m                 \u001b[0;34mf\"{len(columns)} columns passed, passed data had \"\u001b[0m\u001b[0;34m\u001b[0m\u001b[0;34m\u001b[0m\u001b[0m\n",
      "\u001b[0;31mAssertionError\u001b[0m: 25 columns passed, passed data had 24 columns",
      "\nThe above exception was the direct cause of the following exception:\n",
      "\u001b[0;31mValueError\u001b[0m                                Traceback (most recent call last)",
      "\u001b[0;32m<ipython-input-28-2f5a772b8584>\u001b[0m in \u001b[0;36m<module>\u001b[0;34m\u001b[0m\n\u001b[1;32m     19\u001b[0m \u001b[0;34m\u001b[0m\u001b[0m\n\u001b[1;32m     20\u001b[0m \u001b[0;31m# create a dataframe where the rows = all_rows_list and columns = headers_list\u001b[0m\u001b[0;34m\u001b[0m\u001b[0;34m\u001b[0m\u001b[0;34m\u001b[0m\u001b[0m\n\u001b[0;32m---> 21\u001b[0;31m \u001b[0mplyrs_xg_df\u001b[0m \u001b[0;34m=\u001b[0m \u001b[0mpd\u001b[0m\u001b[0;34m.\u001b[0m\u001b[0mDataFrame\u001b[0m\u001b[0;34m(\u001b[0m\u001b[0mall_rows_list\u001b[0m\u001b[0;34m,\u001b[0m \u001b[0mcolumns\u001b[0m\u001b[0;34m=\u001b[0m\u001b[0mheaders_list\u001b[0m\u001b[0;34m)\u001b[0m\u001b[0;34m\u001b[0m\u001b[0;34m\u001b[0m\u001b[0m\n\u001b[0m\u001b[1;32m     22\u001b[0m \u001b[0mplyrs_xg_df\u001b[0m\u001b[0;34m\u001b[0m\u001b[0;34m\u001b[0m\u001b[0m\n",
      "\u001b[0;32m/opt/anaconda3/lib/python3.8/site-packages/pandas/core/frame.py\u001b[0m in \u001b[0;36m__init__\u001b[0;34m(self, data, index, columns, dtype, copy)\u001b[0m\n\u001b[1;32m    472\u001b[0m                     \u001b[0;32mif\u001b[0m \u001b[0mis_named_tuple\u001b[0m\u001b[0;34m(\u001b[0m\u001b[0mdata\u001b[0m\u001b[0;34m[\u001b[0m\u001b[0;36m0\u001b[0m\u001b[0;34m]\u001b[0m\u001b[0;34m)\u001b[0m \u001b[0;32mand\u001b[0m \u001b[0mcolumns\u001b[0m \u001b[0;32mis\u001b[0m \u001b[0;32mNone\u001b[0m\u001b[0;34m:\u001b[0m\u001b[0;34m\u001b[0m\u001b[0;34m\u001b[0m\u001b[0m\n\u001b[1;32m    473\u001b[0m                         \u001b[0mcolumns\u001b[0m \u001b[0;34m=\u001b[0m \u001b[0mdata\u001b[0m\u001b[0;34m[\u001b[0m\u001b[0;36m0\u001b[0m\u001b[0;34m]\u001b[0m\u001b[0;34m.\u001b[0m\u001b[0m_fields\u001b[0m\u001b[0;34m\u001b[0m\u001b[0;34m\u001b[0m\u001b[0m\n\u001b[0;32m--> 474\u001b[0;31m                     \u001b[0marrays\u001b[0m\u001b[0;34m,\u001b[0m \u001b[0mcolumns\u001b[0m \u001b[0;34m=\u001b[0m \u001b[0mto_arrays\u001b[0m\u001b[0;34m(\u001b[0m\u001b[0mdata\u001b[0m\u001b[0;34m,\u001b[0m \u001b[0mcolumns\u001b[0m\u001b[0;34m,\u001b[0m \u001b[0mdtype\u001b[0m\u001b[0;34m=\u001b[0m\u001b[0mdtype\u001b[0m\u001b[0;34m)\u001b[0m\u001b[0;34m\u001b[0m\u001b[0;34m\u001b[0m\u001b[0m\n\u001b[0m\u001b[1;32m    475\u001b[0m                     \u001b[0mcolumns\u001b[0m \u001b[0;34m=\u001b[0m \u001b[0mensure_index\u001b[0m\u001b[0;34m(\u001b[0m\u001b[0mcolumns\u001b[0m\u001b[0;34m)\u001b[0m\u001b[0;34m\u001b[0m\u001b[0;34m\u001b[0m\u001b[0m\n\u001b[1;32m    476\u001b[0m \u001b[0;34m\u001b[0m\u001b[0m\n",
      "\u001b[0;32m/opt/anaconda3/lib/python3.8/site-packages/pandas/core/internals/construction.py\u001b[0m in \u001b[0;36mto_arrays\u001b[0;34m(data, columns, coerce_float, dtype)\u001b[0m\n\u001b[1;32m    459\u001b[0m         \u001b[0;32mreturn\u001b[0m \u001b[0;34m[\u001b[0m\u001b[0;34m]\u001b[0m\u001b[0;34m,\u001b[0m \u001b[0;34m[\u001b[0m\u001b[0;34m]\u001b[0m  \u001b[0;31m# columns if columns is not None else []\u001b[0m\u001b[0;34m\u001b[0m\u001b[0;34m\u001b[0m\u001b[0m\n\u001b[1;32m    460\u001b[0m     \u001b[0;32mif\u001b[0m \u001b[0misinstance\u001b[0m\u001b[0;34m(\u001b[0m\u001b[0mdata\u001b[0m\u001b[0;34m[\u001b[0m\u001b[0;36m0\u001b[0m\u001b[0;34m]\u001b[0m\u001b[0;34m,\u001b[0m \u001b[0;34m(\u001b[0m\u001b[0mlist\u001b[0m\u001b[0;34m,\u001b[0m \u001b[0mtuple\u001b[0m\u001b[0;34m)\u001b[0m\u001b[0;34m)\u001b[0m\u001b[0;34m:\u001b[0m\u001b[0;34m\u001b[0m\u001b[0;34m\u001b[0m\u001b[0m\n\u001b[0;32m--> 461\u001b[0;31m         \u001b[0;32mreturn\u001b[0m \u001b[0m_list_to_arrays\u001b[0m\u001b[0;34m(\u001b[0m\u001b[0mdata\u001b[0m\u001b[0;34m,\u001b[0m \u001b[0mcolumns\u001b[0m\u001b[0;34m,\u001b[0m \u001b[0mcoerce_float\u001b[0m\u001b[0;34m=\u001b[0m\u001b[0mcoerce_float\u001b[0m\u001b[0;34m,\u001b[0m \u001b[0mdtype\u001b[0m\u001b[0;34m=\u001b[0m\u001b[0mdtype\u001b[0m\u001b[0;34m)\u001b[0m\u001b[0;34m\u001b[0m\u001b[0;34m\u001b[0m\u001b[0m\n\u001b[0m\u001b[1;32m    462\u001b[0m     \u001b[0;32melif\u001b[0m \u001b[0misinstance\u001b[0m\u001b[0;34m(\u001b[0m\u001b[0mdata\u001b[0m\u001b[0;34m[\u001b[0m\u001b[0;36m0\u001b[0m\u001b[0;34m]\u001b[0m\u001b[0;34m,\u001b[0m \u001b[0mabc\u001b[0m\u001b[0;34m.\u001b[0m\u001b[0mMapping\u001b[0m\u001b[0;34m)\u001b[0m\u001b[0;34m:\u001b[0m\u001b[0;34m\u001b[0m\u001b[0;34m\u001b[0m\u001b[0m\n\u001b[1;32m    463\u001b[0m         return _list_of_dict_to_arrays(\n",
      "\u001b[0;32m/opt/anaconda3/lib/python3.8/site-packages/pandas/core/internals/construction.py\u001b[0m in \u001b[0;36m_list_to_arrays\u001b[0;34m(data, columns, coerce_float, dtype)\u001b[0m\n\u001b[1;32m    498\u001b[0m         )\n\u001b[1;32m    499\u001b[0m     \u001b[0;32mexcept\u001b[0m \u001b[0mAssertionError\u001b[0m \u001b[0;32mas\u001b[0m \u001b[0me\u001b[0m\u001b[0;34m:\u001b[0m\u001b[0;34m\u001b[0m\u001b[0;34m\u001b[0m\u001b[0m\n\u001b[0;32m--> 500\u001b[0;31m         \u001b[0;32mraise\u001b[0m \u001b[0mValueError\u001b[0m\u001b[0;34m(\u001b[0m\u001b[0me\u001b[0m\u001b[0;34m)\u001b[0m \u001b[0;32mfrom\u001b[0m \u001b[0me\u001b[0m\u001b[0;34m\u001b[0m\u001b[0;34m\u001b[0m\u001b[0m\n\u001b[0m\u001b[1;32m    501\u001b[0m     \u001b[0;32mreturn\u001b[0m \u001b[0mresult\u001b[0m\u001b[0;34m\u001b[0m\u001b[0;34m\u001b[0m\u001b[0m\n\u001b[1;32m    502\u001b[0m \u001b[0;34m\u001b[0m\u001b[0m\n",
      "\u001b[0;31mValueError\u001b[0m: 25 columns passed, passed data had 24 columns"
     ]
    }
   ],
   "source": [
    "body = soup.find('div', attrs={'class':'overthrow table_container'}).table.tbody\n",
    "\n",
    "#create a master list for row data\n",
    "all_rows_list = []\n",
    "\n",
    "#for each row in the table body\n",
    "for tr in body.find_all('tr'):\n",
    "    #get data from each cell in the row\n",
    "    row = tr.find_all('td')\n",
    "    #create list to save current row data to\n",
    "    current_row = []\n",
    "    # for each item in the row variable\n",
    "    for item in row:\n",
    "    #add the text data to the current_row list\n",
    "        current_row.append(item.get_text(strip=True))\n",
    "    \n",
    "    #add the current row data to the master list\n",
    "    all_rows_list.append(current_row)\n",
    "        \n",
    "# create a dataframe where the rows = all_rows_list and columns = headers_list\n",
    "plyrs_xg_df = pd.DataFrame(all_rows_list, columns=headers_list)\n",
    "plyrs_xg_df"
   ]
  },
  {
   "cell_type": "code",
   "execution_count": null,
   "metadata": {},
   "outputs": [],
   "source": []
  }
 ],
 "metadata": {
  "kernelspec": {
   "display_name": "Python 3",
   "language": "python",
   "name": "python3"
  },
  "language_info": {
   "codemirror_mode": {
    "name": "ipython",
    "version": 3
   },
   "file_extension": ".py",
   "mimetype": "text/x-python",
   "name": "python",
   "nbconvert_exporter": "python",
   "pygments_lexer": "ipython3",
   "version": "3.8.3"
  }
 },
 "nbformat": 4,
 "nbformat_minor": 4
}
